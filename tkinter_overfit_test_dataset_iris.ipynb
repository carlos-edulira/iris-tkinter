{
 "cells": [
  {
   "cell_type": "code",
   "execution_count": 131,
   "id": "677d1b18",
   "metadata": {},
   "outputs": [],
   "source": [
    "from sklearn import datasets\n",
    "from sklearn import svm\n",
    "import pandas as pd\n",
    "import numpy as np\n",
    "import joblib\n",
    "#repitile"
   ]
  },
  {
   "cell_type": "code",
   "execution_count": 132,
   "id": "5e506149",
   "metadata": {},
   "outputs": [],
   "source": [
    "import tkinter"
   ]
  },
  {
   "cell_type": "code",
   "execution_count": 138,
   "id": "a6dbf12a",
   "metadata": {},
   "outputs": [],
   "source": [
    "janela = tkinter.Tk()\n",
    "janela.geometry('900x900')\n",
    "\n",
    "label_sepalal = tkinter.Label(janela, text='Comprimento da Sépala (cm):')\n",
    "label_sepalal.pack()\n",
    "sepalal = tkinter.Entry(janela)\n",
    "sepalal.pack()\n",
    "\n",
    "label_petalal = tkinter.Label(janela, text='Comprimento da Pétala (cm):')\n",
    "label_petalal.pack()\n",
    "petalal = tkinter.Entry(janela)\n",
    "petalal.pack()\n",
    "\n",
    "label_petalaa = tkinter.Label(janela, text='Altura da Pétala (cm):')\n",
    "label_petalaa.pack()\n",
    "petalaa = tkinter.Entry(janela)\n",
    "petalaa.pack()\n",
    "\n",
    "label_sepalaa = tkinter.Label(janela, text='Altura da Sépala (cm):')\n",
    "label_sepalaa.pack()\n",
    "sepalaa=tkinter.Entry(janela)\n",
    "sepalaa.pack()\n",
    "\n",
    "resultado = tkinter.Label(janela, text='')\n",
    "resultado.pack()\n",
    "\n",
    "imagem_label = tkinter.Label(janela)\n",
    "imagem_label.pack()\n",
    "\n",
    "def classificar():\n",
    "    imagem_label.configure(image='') #label vazia\n",
    "    \n",
    "    sl = float(sepalal.get())\n",
    "    sa = float(sepalaa.get())\n",
    "    pl = float(petalal.get())\n",
    "    pa = float(petalaa.get())\n",
    "    dados = np.array([[sl,sa,pl,pa]])\n",
    "    botanico = joblib.load('C:/Users/cadul/datasetiris_p2carlos/modelo.pkl')\n",
    "    botanico.predict(dados)\n",
    "    classificacao = botanico.predict(dados)\n",
    "    if classificacao == 0:\n",
    "        resultado['text'] = 'Iris-Setosa'\n",
    "        imagem = tkinter.PhotoImage(file='C:/Users/cadul/datasetiris_p2carlos/iris-setosa.png')\n",
    "        #atualizando label da img\n",
    "        imagem_label.configure(image=imagem)\n",
    "        imagem_label.image = imagem\n",
    "    elif classificacao == 1:\n",
    "        resultado['text'] = 'Iris-Versicolor'\n",
    "        imagem = tkinter.PhotoImage(file='C:/Users/cadul/datasetiris_p2carlos/iris-versicolor.png')\n",
    "         #atualizando label da img\n",
    "        imagem_label.configure(image=imagem)\n",
    "        imagem_label.image = imagem\n",
    "    else:\n",
    "        resultado['text'] = 'Iris-Virginica'\n",
    "        imagem = tkinter.PhotoImage(file='C:/Users/cadul/datasetiris_p2carlos/iris-virginica.png')\n",
    "         #atualizando label da img\n",
    "        imagem_label.configure(image=imagem)\n",
    "        imagem_label.image = imagem\n",
    "\n",
    "botao = tkinter.Button(janela, text='Que flor é essa?', command=classificar)\n",
    "botao.pack()\n",
    "\n",
    "janela.mainloop()"
   ]
  },
  {
   "cell_type": "code",
   "execution_count": null,
   "id": "fab55a08",
   "metadata": {},
   "outputs": [],
   "source": []
  }
 ],
 "metadata": {
  "kernelspec": {
   "display_name": "Python 3 (ipykernel)",
   "language": "python",
   "name": "python3"
  },
  "language_info": {
   "codemirror_mode": {
    "name": "ipython",
    "version": 3
   },
   "file_extension": ".py",
   "mimetype": "text/x-python",
   "name": "python",
   "nbconvert_exporter": "python",
   "pygments_lexer": "ipython3",
   "version": "3.11.4"
  }
 },
 "nbformat": 4,
 "nbformat_minor": 5
}
