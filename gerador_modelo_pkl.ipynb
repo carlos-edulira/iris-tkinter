{
 "cells": [
  {
   "cell_type": "code",
   "execution_count": null,
   "metadata": {},
   "outputs": [],
   "source": [
    "from sklearn import datasets\n",
    "from sklearn import svm\n",
    "import pandas as pd\n",
    "import numpy as np\n",
    "import joblib"
   ]
  },
  {
   "cell_type": "code",
   "execution_count": null,
   "metadata": {},
   "outputs": [],
   "source": [
    "iris = datasets.load_iris()\n",
    "\n",
    "df = pd.DataFrame(iris.data, columns=iris.feature_names)\n",
    "df['target'] = iris.target\n",
    "\n",
    "X = df[iris.feature_names].values\n",
    "y = df['target'].values\n",
    "\n",
    "iris_predict = svm.SVC(gamma=0.001, C=100)\n",
    "iris_predict.fit(X,y)\n",
    "\n",
    "joblib.dump(iris_predict, 'modelo.pkl')"
   ]
  }
 ],
 "metadata": {
  "language_info": {
   "name": "python"
  }
 },
 "nbformat": 4,
 "nbformat_minor": 2
}
